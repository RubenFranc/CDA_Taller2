{
  "cells": [
    {
      "cell_type": "code",
      "source": [
        "!git clone https://github.com/RubenFranc/CDA_Taller2"
      ],
      "metadata": {
        "colab": {
          "base_uri": "https://localhost:8080/"
        },
        "id": "rJzQkWGbFNoY",
        "outputId": "8455c617-5b49-4309-fb33-746ad1be84b1"
      },
      "id": "rJzQkWGbFNoY",
      "execution_count": 83,
      "outputs": [
        {
          "output_type": "stream",
          "name": "stdout",
          "text": [
            "fatal: destination path 'CDA_Taller2' already exists and is not an empty directory.\n"
          ]
        }
      ]
    },
    {
      "cell_type": "code",
      "execution_count": 84,
      "id": "0f18a8c6",
      "metadata": {
        "colab": {
          "base_uri": "https://localhost:8080/"
        },
        "id": "0f18a8c6",
        "outputId": "8b26e079-b50e-402f-8f99-57251cef1e01"
      },
      "outputs": [
        {
          "output_type": "stream",
          "name": "stdout",
          "text": [
            "Requirement already satisfied: keras-tuner in /usr/local/lib/python3.10/dist-packages (1.4.7)\n",
            "Requirement already satisfied: keras in /usr/local/lib/python3.10/dist-packages (from keras-tuner) (3.4.1)\n",
            "Requirement already satisfied: packaging in /usr/local/lib/python3.10/dist-packages (from keras-tuner) (24.1)\n",
            "Requirement already satisfied: requests in /usr/local/lib/python3.10/dist-packages (from keras-tuner) (2.32.3)\n",
            "Requirement already satisfied: kt-legacy in /usr/local/lib/python3.10/dist-packages (from keras-tuner) (1.0.5)\n",
            "Requirement already satisfied: absl-py in /usr/local/lib/python3.10/dist-packages (from keras->keras-tuner) (1.4.0)\n",
            "Requirement already satisfied: numpy in /usr/local/lib/python3.10/dist-packages (from keras->keras-tuner) (1.26.4)\n",
            "Requirement already satisfied: rich in /usr/local/lib/python3.10/dist-packages (from keras->keras-tuner) (13.9.3)\n",
            "Requirement already satisfied: namex in /usr/local/lib/python3.10/dist-packages (from keras->keras-tuner) (0.0.8)\n",
            "Requirement already satisfied: h5py in /usr/local/lib/python3.10/dist-packages (from keras->keras-tuner) (3.12.1)\n",
            "Requirement already satisfied: optree in /usr/local/lib/python3.10/dist-packages (from keras->keras-tuner) (0.13.0)\n",
            "Requirement already satisfied: ml-dtypes in /usr/local/lib/python3.10/dist-packages (from keras->keras-tuner) (0.4.1)\n",
            "Requirement already satisfied: charset-normalizer<4,>=2 in /usr/local/lib/python3.10/dist-packages (from requests->keras-tuner) (3.4.0)\n",
            "Requirement already satisfied: idna<4,>=2.5 in /usr/local/lib/python3.10/dist-packages (from requests->keras-tuner) (3.10)\n",
            "Requirement already satisfied: urllib3<3,>=1.21.1 in /usr/local/lib/python3.10/dist-packages (from requests->keras-tuner) (2.2.3)\n",
            "Requirement already satisfied: certifi>=2017.4.17 in /usr/local/lib/python3.10/dist-packages (from requests->keras-tuner) (2024.8.30)\n",
            "Requirement already satisfied: typing-extensions>=4.5.0 in /usr/local/lib/python3.10/dist-packages (from optree->keras->keras-tuner) (4.12.2)\n",
            "Requirement already satisfied: markdown-it-py>=2.2.0 in /usr/local/lib/python3.10/dist-packages (from rich->keras->keras-tuner) (3.0.0)\n",
            "Requirement already satisfied: pygments<3.0.0,>=2.13.0 in /usr/local/lib/python3.10/dist-packages (from rich->keras->keras-tuner) (2.18.0)\n",
            "Requirement already satisfied: mdurl~=0.1 in /usr/local/lib/python3.10/dist-packages (from markdown-it-py>=2.2.0->rich->keras->keras-tuner) (0.1.2)\n"
          ]
        }
      ],
      "source": [
        "!pip install keras-tuner"
      ]
    },
    {
      "cell_type": "code",
      "execution_count": 85,
      "id": "dfaeaed8",
      "metadata": {
        "colab": {
          "base_uri": "https://localhost:8080/"
        },
        "id": "dfaeaed8",
        "outputId": "86591b50-a35a-43ce-8461-d710b134017e"
      },
      "outputs": [
        {
          "output_type": "stream",
          "name": "stdout",
          "text": [
            "La versión de sklearn es: 1.5.2\n",
            "Tensorflow version: 2.17.0\n"
          ]
        }
      ],
      "source": [
        "#Numpy y Pandas\n",
        "import pandas as pd\n",
        "import numpy as np\n",
        "from numpy import asarray\n",
        "\n",
        "#Librerías de Scikit Learn\n",
        "import sklearn\n",
        "from sklearn.metrics import classification_report\n",
        "from sklearn.model_selection import train_test_split\n",
        "\n",
        "#Librerías de Keras y Tensor Flow\n",
        "import tensorflow as tf\n",
        "import keras_tuner as kt\n",
        "\n",
        "from keras.models import Sequential\n",
        "from keras.layers import Dropout, Flatten, Dense, Input, Rescaling, Lambda, MaxPooling2D, Conv2D, AveragePooling2D, Activation, Reshape\n",
        "from keras import backend as K\n",
        "from keras import applications\n",
        "from keras.utils import plot_model\n",
        "from tensorflow.keras.optimizers import Adam\n",
        "\n",
        "#Gráficos\n",
        "import matplotlib.pyplot as plt\n",
        "%matplotlib inline\n",
        "\n",
        "#Otras Librerías\n",
        "import os\n",
        "from PIL import Image\n",
        "from tqdm import tqdm\n",
        "\n",
        "#Verificamos las versiones de las librerías\n",
        "print(f\"La versión de sklearn es: {sklearn.__version__}\")\n",
        "print('Tensorflow version:', tf.__version__)"
      ]
    },
    {
      "cell_type": "code",
      "execution_count": 86,
      "id": "147854d3",
      "metadata": {
        "id": "147854d3"
      },
      "outputs": [],
      "source": [
        "def convertImagesToArrays(dataset:str)->tuple:\n",
        "    print('\\nFORMATEANDO IMÁGENES DE '+dataset.upper())\n",
        "    data='CDA_Taller2/model/data/'+dataset+'/Fruit'\n",
        "    categories=os.listdir(data)\n",
        "    im_size=50\n",
        "    dataToArray=[]\n",
        "    labels=[]\n",
        "    for category in range(len(categories)):\n",
        "        path=data+'/'+categories[category]\n",
        "        label=category\n",
        "        l=os.listdir(path)\n",
        "        for im in tqdm(range(len(l))):\n",
        "            new_im=Image.open(os.path.join(path,l[im])).resize((im_size,im_size))\n",
        "            im_array=np.asanyarray(new_im)\n",
        "            dataToArray.append(im_array)\n",
        "            labels.append(label)\n",
        "\n",
        "    num_images=len(dataToArray)\n",
        "    index=np.int64(np.linspace(0,num_images-1,num_images))\n",
        "    np.random.shuffle(index)\n",
        "    s_data=[]\n",
        "    s_labels=[]\n",
        "    for i in range(len(index)):\n",
        "        try:\n",
        "            s_data.append(dataToArray[index[i]])\n",
        "            s_labels.append(labels[index[i]])\n",
        "        except Exception as e:\n",
        "            pass\n",
        "    s_dataToArray=np.array(s_data)\n",
        "    s_labels=np.array(s_labels)\n",
        "    return s_dataToArray,s_labels"
      ]
    },
    {
      "cell_type": "code",
      "execution_count": 87,
      "id": "4de23ea9",
      "metadata": {
        "colab": {
          "base_uri": "https://localhost:8080/"
        },
        "id": "4de23ea9",
        "outputId": "c57d2945-8f39-4df1-b5dc-2ea92dfc5544"
      },
      "outputs": [
        {
          "output_type": "stream",
          "name": "stdout",
          "text": [
            "\n",
            "FORMATEANDO IMÁGENES DE TRAIN\n"
          ]
        },
        {
          "output_type": "stream",
          "name": "stderr",
          "text": [
            "100%|██████████| 28/28 [00:00<00:00, 506.06it/s]\n",
            "100%|██████████| 26/26 [00:00<00:00, 546.42it/s]\n",
            "100%|██████████| 34/34 [00:00<00:00, 554.18it/s]\n",
            "100%|██████████| 32/32 [00:00<00:00, 557.07it/s]\n",
            "100%|██████████| 41/41 [00:00<00:00, 534.08it/s]\n",
            "100%|██████████| 46/46 [00:00<00:00, 520.38it/s]\n",
            "100%|██████████| 37/37 [00:00<00:00, 525.85it/s]\n",
            "100%|██████████| 36/36 [00:00<00:00, 496.81it/s]\n",
            "100%|██████████| 278/278 [00:00<00:00, 424.39it/s]\n",
            "100%|██████████| 116/116 [00:00<00:00, 369.81it/s]\n",
            "100%|██████████| 154/154 [00:00<00:00, 516.13it/s]\n",
            "100%|██████████| 21/21 [00:00<00:00, 522.23it/s]\n",
            "100%|██████████| 42/42 [00:00<00:00, 442.03it/s]\n",
            "100%|██████████| 45/45 [00:00<00:00, 546.63it/s]\n",
            "100%|██████████| 70/70 [00:00<00:00, 550.76it/s]\n",
            "100%|██████████| 31/31 [00:00<00:00, 509.36it/s]\n",
            "100%|██████████| 26/26 [00:00<00:00, 491.34it/s]\n",
            "100%|██████████| 57/57 [00:00<00:00, 506.94it/s]\n",
            "100%|██████████| 22/22 [00:00<00:00, 531.02it/s]\n"
          ]
        },
        {
          "output_type": "stream",
          "name": "stdout",
          "text": [
            "\n",
            "FORMATEANDO IMÁGENES DE TEST\n"
          ]
        },
        {
          "output_type": "stream",
          "name": "stderr",
          "text": [
            "100%|██████████| 27/27 [00:00<00:00, 474.20it/s]\n",
            "100%|██████████| 25/25 [00:00<00:00, 295.48it/s]\n",
            "100%|██████████| 34/34 [00:00<00:00, 270.15it/s]\n",
            "100%|██████████| 31/31 [00:00<00:00, 280.51it/s]\n",
            "100%|██████████| 40/40 [00:00<00:00, 319.47it/s]\n",
            "100%|██████████| 45/45 [00:00<00:00, 508.91it/s]\n",
            "100%|██████████| 36/36 [00:00<00:00, 515.94it/s]\n",
            "100%|██████████| 35/35 [00:00<00:00, 531.43it/s]\n",
            "100%|██████████| 276/276 [00:00<00:00, 393.95it/s]\n",
            "100%|██████████| 108/108 [00:00<00:00, 416.07it/s]\n",
            "100%|██████████| 153/153 [00:00<00:00, 311.53it/s]\n",
            "100%|██████████| 21/21 [00:00<00:00, 359.35it/s]\n",
            "100%|██████████| 41/41 [00:00<00:00, 282.32it/s]\n",
            "100%|██████████| 44/44 [00:00<00:00, 273.46it/s]\n",
            "100%|██████████| 68/68 [00:00<00:00, 185.05it/s]\n",
            "100%|██████████| 30/30 [00:00<00:00, 132.19it/s]\n",
            "100%|██████████| 25/25 [00:00<00:00, 148.91it/s]\n",
            "100%|██████████| 56/56 [00:00<00:00, 125.67it/s]\n",
            "100%|██████████| 22/22 [00:00<00:00, 314.69it/s]\n"
          ]
        },
        {
          "output_type": "stream",
          "name": "stdout",
          "text": [
            "\n",
            "FORMATEANDO IMÁGENES DE VAL\n"
          ]
        },
        {
          "output_type": "stream",
          "name": "stderr",
          "text": [
            "100%|██████████| 5/5 [00:00<00:00, 161.82it/s]\n",
            "100%|██████████| 5/5 [00:00<00:00, 162.75it/s]\n",
            "100%|██████████| 5/5 [00:00<00:00, 124.15it/s]\n",
            "100%|██████████| 3/3 [00:00<00:00, 124.13it/s]\n",
            "100%|██████████| 5/5 [00:00<00:00, 190.68it/s]\n",
            "100%|██████████| 5/5 [00:00<00:00, 159.08it/s]\n",
            "100%|██████████| 5/5 [00:00<00:00, 227.01it/s]\n",
            "100%|██████████| 22/22 [00:00<00:00, 142.91it/s]\n",
            "100%|██████████| 5/5 [00:00<00:00, 184.94it/s]\n",
            "100%|██████████| 20/20 [00:00<00:00, 236.80it/s]\n",
            "100%|██████████| 5/5 [00:00<00:00, 151.18it/s]\n",
            "100%|██████████| 6/6 [00:00<00:00, 254.59it/s]\n",
            "100%|██████████| 5/5 [00:00<00:00, 240.84it/s]\n",
            "100%|██████████| 5/5 [00:00<00:00, 170.49it/s]\n",
            "100%|██████████| 5/5 [00:00<00:00, 271.89it/s]\n",
            "100%|██████████| 5/5 [00:00<00:00, 240.93it/s]\n"
          ]
        }
      ],
      "source": [
        "s_train_data,s_train_labels=convertImagesToArrays('train')\n",
        "s_test_data,s_test_labels=convertImagesToArrays('test')\n",
        "s_val_data,s_val_labels=convertImagesToArrays('val')"
      ]
    },
    {
      "cell_type": "code",
      "source": [
        "data='CDA_Taller2/model/data/train/Fruit'\n",
        "categories=os.listdir(data)\n",
        "categories"
      ],
      "metadata": {
        "colab": {
          "base_uri": "https://localhost:8080/"
        },
        "id": "n38h1OQbHoIQ",
        "outputId": "43833b18-aaff-4277-8d1b-82d31d0d2b51"
      },
      "id": "n38h1OQbHoIQ",
      "execution_count": 88,
      "outputs": [
        {
          "output_type": "execute_result",
          "data": {
            "text/plain": [
              "['Passion-Fruit',\n",
              " 'Pomegranate',\n",
              " 'Red-Grapefruit',\n",
              " 'Mango',\n",
              " 'Avocado',\n",
              " 'Kiwi',\n",
              " 'Peach',\n",
              " 'Nectarine',\n",
              " 'Apple',\n",
              " 'Pear',\n",
              " 'Melon',\n",
              " 'Papaya',\n",
              " 'Lemon',\n",
              " 'Banana',\n",
              " 'Satsumas',\n",
              " 'Lime',\n",
              " 'Pineapple',\n",
              " 'Orange',\n",
              " 'Plum']"
            ]
          },
          "metadata": {},
          "execution_count": 88
        }
      ]
    },
    {
      "cell_type": "code",
      "execution_count": 89,
      "id": "ba733bb1",
      "metadata": {
        "id": "ba733bb1"
      },
      "outputs": [],
      "source": [
        "model = Sequential(name=\"Mi_primer_RNC\")"
      ]
    },
    {
      "cell_type": "code",
      "execution_count": 90,
      "id": "af1d8e0d",
      "metadata": {
        "colab": {
          "base_uri": "https://localhost:8080/",
          "height": 167
        },
        "id": "af1d8e0d",
        "outputId": "2fdd3fb4-d926-4a81-f633-dac5eeeb9c92"
      },
      "outputs": [
        {
          "output_type": "display_data",
          "data": {
            "text/plain": [
              "\u001b[1mModel: \"Mi_primer_RNC\"\u001b[0m\n"
            ],
            "text/html": [
              "<pre style=\"white-space:pre;overflow-x:auto;line-height:normal;font-family:Menlo,'DejaVu Sans Mono',consolas,'Courier New',monospace\"><span style=\"font-weight: bold\">Model: \"Mi_primer_RNC\"</span>\n",
              "</pre>\n"
            ]
          },
          "metadata": {}
        },
        {
          "output_type": "display_data",
          "data": {
            "text/plain": [
              "┏━━━━━━━━━━━━━━━━━━━━━━━━━━━━━━━━━━━━━━┳━━━━━━━━━━━━━━━━━━━━━━━━━━━━━┳━━━━━━━━━━━━━━━━━┓\n",
              "┃\u001b[1m \u001b[0m\u001b[1mLayer (type)                        \u001b[0m\u001b[1m \u001b[0m┃\u001b[1m \u001b[0m\u001b[1mOutput Shape               \u001b[0m\u001b[1m \u001b[0m┃\u001b[1m \u001b[0m\u001b[1m        Param #\u001b[0m\u001b[1m \u001b[0m┃\n",
              "┡━━━━━━━━━━━━━━━━━━━━━━━━━━━━━━━━━━━━━━╇━━━━━━━━━━━━━━━━━━━━━━━━━━━━━╇━━━━━━━━━━━━━━━━━┩\n",
              "│ Capa_Reescalado (\u001b[38;5;33mRescaling\u001b[0m)          │ (\u001b[38;5;45mNone\u001b[0m, \u001b[38;5;34m256\u001b[0m, \u001b[38;5;34m256\u001b[0m, \u001b[38;5;34m3\u001b[0m)         │               \u001b[38;5;34m0\u001b[0m │\n",
              "└──────────────────────────────────────┴─────────────────────────────┴─────────────────┘\n"
            ],
            "text/html": [
              "<pre style=\"white-space:pre;overflow-x:auto;line-height:normal;font-family:Menlo,'DejaVu Sans Mono',consolas,'Courier New',monospace\">┏━━━━━━━━━━━━━━━━━━━━━━━━━━━━━━━━━━━━━━┳━━━━━━━━━━━━━━━━━━━━━━━━━━━━━┳━━━━━━━━━━━━━━━━━┓\n",
              "┃<span style=\"font-weight: bold\"> Layer (type)                         </span>┃<span style=\"font-weight: bold\"> Output Shape                </span>┃<span style=\"font-weight: bold\">         Param # </span>┃\n",
              "┡━━━━━━━━━━━━━━━━━━━━━━━━━━━━━━━━━━━━━━╇━━━━━━━━━━━━━━━━━━━━━━━━━━━━━╇━━━━━━━━━━━━━━━━━┩\n",
              "│ Capa_Reescalado (<span style=\"color: #0087ff; text-decoration-color: #0087ff\">Rescaling</span>)          │ (<span style=\"color: #00d7ff; text-decoration-color: #00d7ff\">None</span>, <span style=\"color: #00af00; text-decoration-color: #00af00\">256</span>, <span style=\"color: #00af00; text-decoration-color: #00af00\">256</span>, <span style=\"color: #00af00; text-decoration-color: #00af00\">3</span>)         │               <span style=\"color: #00af00; text-decoration-color: #00af00\">0</span> │\n",
              "└──────────────────────────────────────┴─────────────────────────────┴─────────────────┘\n",
              "</pre>\n"
            ]
          },
          "metadata": {}
        },
        {
          "output_type": "display_data",
          "data": {
            "text/plain": [
              "\u001b[1m Total params: \u001b[0m\u001b[38;5;34m0\u001b[0m (0.00 B)\n"
            ],
            "text/html": [
              "<pre style=\"white-space:pre;overflow-x:auto;line-height:normal;font-family:Menlo,'DejaVu Sans Mono',consolas,'Courier New',monospace\"><span style=\"font-weight: bold\"> Total params: </span><span style=\"color: #00af00; text-decoration-color: #00af00\">0</span> (0.00 B)\n",
              "</pre>\n"
            ]
          },
          "metadata": {}
        },
        {
          "output_type": "display_data",
          "data": {
            "text/plain": [
              "\u001b[1m Trainable params: \u001b[0m\u001b[38;5;34m0\u001b[0m (0.00 B)\n"
            ],
            "text/html": [
              "<pre style=\"white-space:pre;overflow-x:auto;line-height:normal;font-family:Menlo,'DejaVu Sans Mono',consolas,'Courier New',monospace\"><span style=\"font-weight: bold\"> Trainable params: </span><span style=\"color: #00af00; text-decoration-color: #00af00\">0</span> (0.00 B)\n",
              "</pre>\n"
            ]
          },
          "metadata": {}
        },
        {
          "output_type": "display_data",
          "data": {
            "text/plain": [
              "\u001b[1m Non-trainable params: \u001b[0m\u001b[38;5;34m0\u001b[0m (0.00 B)\n"
            ],
            "text/html": [
              "<pre style=\"white-space:pre;overflow-x:auto;line-height:normal;font-family:Menlo,'DejaVu Sans Mono',consolas,'Courier New',monospace\"><span style=\"font-weight: bold\"> Non-trainable params: </span><span style=\"color: #00af00; text-decoration-color: #00af00\">0</span> (0.00 B)\n",
              "</pre>\n"
            ]
          },
          "metadata": {}
        }
      ],
      "source": [
        "model.add(Input(shape=(256, 256, 3), batch_size=None, name='Capa_Entrada'))\n",
        "model.add(Rescaling(1./255, name='Capa_Reescalado'))\n",
        "\n",
        "model.summary()"
      ]
    },
    {
      "cell_type": "code",
      "source": [
        "model.add(Conv2D(64, (3, 3), activation='relu', name='Capa_Convolucional_1'))\n",
        "model.add(MaxPooling2D((2, 2), name='Max_Pool_1'))\n",
        "model.add(Conv2D(128, (3, 3), activation='relu', name='Capa_Convolucional_2'))\n",
        "model.add(AveragePooling2D((2, 2), name='Avg_Pool_1'))\n",
        "model.add(Conv2D(256, (3, 3), activation='relu', name='Capa_Convolucional_3'))\n",
        "model.summary()"
      ],
      "metadata": {
        "colab": {
          "base_uri": "https://localhost:8080/",
          "height": 334
        },
        "id": "jPw-uQwqHOBB",
        "outputId": "177c6ece-92a4-43bc-8b0f-a6a4f525576f"
      },
      "id": "jPw-uQwqHOBB",
      "execution_count": 91,
      "outputs": [
        {
          "output_type": "display_data",
          "data": {
            "text/plain": [
              "\u001b[1mModel: \"Mi_primer_RNC\"\u001b[0m\n"
            ],
            "text/html": [
              "<pre style=\"white-space:pre;overflow-x:auto;line-height:normal;font-family:Menlo,'DejaVu Sans Mono',consolas,'Courier New',monospace\"><span style=\"font-weight: bold\">Model: \"Mi_primer_RNC\"</span>\n",
              "</pre>\n"
            ]
          },
          "metadata": {}
        },
        {
          "output_type": "display_data",
          "data": {
            "text/plain": [
              "┏━━━━━━━━━━━━━━━━━━━━━━━━━━━━━━━━━━━━━━┳━━━━━━━━━━━━━━━━━━━━━━━━━━━━━┳━━━━━━━━━━━━━━━━━┓\n",
              "┃\u001b[1m \u001b[0m\u001b[1mLayer (type)                        \u001b[0m\u001b[1m \u001b[0m┃\u001b[1m \u001b[0m\u001b[1mOutput Shape               \u001b[0m\u001b[1m \u001b[0m┃\u001b[1m \u001b[0m\u001b[1m        Param #\u001b[0m\u001b[1m \u001b[0m┃\n",
              "┡━━━━━━━━━━━━━━━━━━━━━━━━━━━━━━━━━━━━━━╇━━━━━━━━━━━━━━━━━━━━━━━━━━━━━╇━━━━━━━━━━━━━━━━━┩\n",
              "│ Capa_Reescalado (\u001b[38;5;33mRescaling\u001b[0m)          │ (\u001b[38;5;45mNone\u001b[0m, \u001b[38;5;34m256\u001b[0m, \u001b[38;5;34m256\u001b[0m, \u001b[38;5;34m3\u001b[0m)         │               \u001b[38;5;34m0\u001b[0m │\n",
              "├──────────────────────────────────────┼─────────────────────────────┼─────────────────┤\n",
              "│ Capa_Convolucional_1 (\u001b[38;5;33mConv2D\u001b[0m)        │ (\u001b[38;5;45mNone\u001b[0m, \u001b[38;5;34m254\u001b[0m, \u001b[38;5;34m254\u001b[0m, \u001b[38;5;34m64\u001b[0m)        │           \u001b[38;5;34m1,792\u001b[0m │\n",
              "├──────────────────────────────────────┼─────────────────────────────┼─────────────────┤\n",
              "│ Max_Pool_1 (\u001b[38;5;33mMaxPooling2D\u001b[0m)            │ (\u001b[38;5;45mNone\u001b[0m, \u001b[38;5;34m127\u001b[0m, \u001b[38;5;34m127\u001b[0m, \u001b[38;5;34m64\u001b[0m)        │               \u001b[38;5;34m0\u001b[0m │\n",
              "├──────────────────────────────────────┼─────────────────────────────┼─────────────────┤\n",
              "│ Capa_Convolucional_2 (\u001b[38;5;33mConv2D\u001b[0m)        │ (\u001b[38;5;45mNone\u001b[0m, \u001b[38;5;34m125\u001b[0m, \u001b[38;5;34m125\u001b[0m, \u001b[38;5;34m128\u001b[0m)       │          \u001b[38;5;34m73,856\u001b[0m │\n",
              "├──────────────────────────────────────┼─────────────────────────────┼─────────────────┤\n",
              "│ Avg_Pool_1 (\u001b[38;5;33mAveragePooling2D\u001b[0m)        │ (\u001b[38;5;45mNone\u001b[0m, \u001b[38;5;34m62\u001b[0m, \u001b[38;5;34m62\u001b[0m, \u001b[38;5;34m128\u001b[0m)         │               \u001b[38;5;34m0\u001b[0m │\n",
              "├──────────────────────────────────────┼─────────────────────────────┼─────────────────┤\n",
              "│ Capa_Convolucional_3 (\u001b[38;5;33mConv2D\u001b[0m)        │ (\u001b[38;5;45mNone\u001b[0m, \u001b[38;5;34m60\u001b[0m, \u001b[38;5;34m60\u001b[0m, \u001b[38;5;34m256\u001b[0m)         │         \u001b[38;5;34m295,168\u001b[0m │\n",
              "└──────────────────────────────────────┴─────────────────────────────┴─────────────────┘\n"
            ],
            "text/html": [
              "<pre style=\"white-space:pre;overflow-x:auto;line-height:normal;font-family:Menlo,'DejaVu Sans Mono',consolas,'Courier New',monospace\">┏━━━━━━━━━━━━━━━━━━━━━━━━━━━━━━━━━━━━━━┳━━━━━━━━━━━━━━━━━━━━━━━━━━━━━┳━━━━━━━━━━━━━━━━━┓\n",
              "┃<span style=\"font-weight: bold\"> Layer (type)                         </span>┃<span style=\"font-weight: bold\"> Output Shape                </span>┃<span style=\"font-weight: bold\">         Param # </span>┃\n",
              "┡━━━━━━━━━━━━━━━━━━━━━━━━━━━━━━━━━━━━━━╇━━━━━━━━━━━━━━━━━━━━━━━━━━━━━╇━━━━━━━━━━━━━━━━━┩\n",
              "│ Capa_Reescalado (<span style=\"color: #0087ff; text-decoration-color: #0087ff\">Rescaling</span>)          │ (<span style=\"color: #00d7ff; text-decoration-color: #00d7ff\">None</span>, <span style=\"color: #00af00; text-decoration-color: #00af00\">256</span>, <span style=\"color: #00af00; text-decoration-color: #00af00\">256</span>, <span style=\"color: #00af00; text-decoration-color: #00af00\">3</span>)         │               <span style=\"color: #00af00; text-decoration-color: #00af00\">0</span> │\n",
              "├──────────────────────────────────────┼─────────────────────────────┼─────────────────┤\n",
              "│ Capa_Convolucional_1 (<span style=\"color: #0087ff; text-decoration-color: #0087ff\">Conv2D</span>)        │ (<span style=\"color: #00d7ff; text-decoration-color: #00d7ff\">None</span>, <span style=\"color: #00af00; text-decoration-color: #00af00\">254</span>, <span style=\"color: #00af00; text-decoration-color: #00af00\">254</span>, <span style=\"color: #00af00; text-decoration-color: #00af00\">64</span>)        │           <span style=\"color: #00af00; text-decoration-color: #00af00\">1,792</span> │\n",
              "├──────────────────────────────────────┼─────────────────────────────┼─────────────────┤\n",
              "│ Max_Pool_1 (<span style=\"color: #0087ff; text-decoration-color: #0087ff\">MaxPooling2D</span>)            │ (<span style=\"color: #00d7ff; text-decoration-color: #00d7ff\">None</span>, <span style=\"color: #00af00; text-decoration-color: #00af00\">127</span>, <span style=\"color: #00af00; text-decoration-color: #00af00\">127</span>, <span style=\"color: #00af00; text-decoration-color: #00af00\">64</span>)        │               <span style=\"color: #00af00; text-decoration-color: #00af00\">0</span> │\n",
              "├──────────────────────────────────────┼─────────────────────────────┼─────────────────┤\n",
              "│ Capa_Convolucional_2 (<span style=\"color: #0087ff; text-decoration-color: #0087ff\">Conv2D</span>)        │ (<span style=\"color: #00d7ff; text-decoration-color: #00d7ff\">None</span>, <span style=\"color: #00af00; text-decoration-color: #00af00\">125</span>, <span style=\"color: #00af00; text-decoration-color: #00af00\">125</span>, <span style=\"color: #00af00; text-decoration-color: #00af00\">128</span>)       │          <span style=\"color: #00af00; text-decoration-color: #00af00\">73,856</span> │\n",
              "├──────────────────────────────────────┼─────────────────────────────┼─────────────────┤\n",
              "│ Avg_Pool_1 (<span style=\"color: #0087ff; text-decoration-color: #0087ff\">AveragePooling2D</span>)        │ (<span style=\"color: #00d7ff; text-decoration-color: #00d7ff\">None</span>, <span style=\"color: #00af00; text-decoration-color: #00af00\">62</span>, <span style=\"color: #00af00; text-decoration-color: #00af00\">62</span>, <span style=\"color: #00af00; text-decoration-color: #00af00\">128</span>)         │               <span style=\"color: #00af00; text-decoration-color: #00af00\">0</span> │\n",
              "├──────────────────────────────────────┼─────────────────────────────┼─────────────────┤\n",
              "│ Capa_Convolucional_3 (<span style=\"color: #0087ff; text-decoration-color: #0087ff\">Conv2D</span>)        │ (<span style=\"color: #00d7ff; text-decoration-color: #00d7ff\">None</span>, <span style=\"color: #00af00; text-decoration-color: #00af00\">60</span>, <span style=\"color: #00af00; text-decoration-color: #00af00\">60</span>, <span style=\"color: #00af00; text-decoration-color: #00af00\">256</span>)         │         <span style=\"color: #00af00; text-decoration-color: #00af00\">295,168</span> │\n",
              "└──────────────────────────────────────┴─────────────────────────────┴─────────────────┘\n",
              "</pre>\n"
            ]
          },
          "metadata": {}
        },
        {
          "output_type": "display_data",
          "data": {
            "text/plain": [
              "\u001b[1m Total params: \u001b[0m\u001b[38;5;34m370,816\u001b[0m (1.41 MB)\n"
            ],
            "text/html": [
              "<pre style=\"white-space:pre;overflow-x:auto;line-height:normal;font-family:Menlo,'DejaVu Sans Mono',consolas,'Courier New',monospace\"><span style=\"font-weight: bold\"> Total params: </span><span style=\"color: #00af00; text-decoration-color: #00af00\">370,816</span> (1.41 MB)\n",
              "</pre>\n"
            ]
          },
          "metadata": {}
        },
        {
          "output_type": "display_data",
          "data": {
            "text/plain": [
              "\u001b[1m Trainable params: \u001b[0m\u001b[38;5;34m370,816\u001b[0m (1.41 MB)\n"
            ],
            "text/html": [
              "<pre style=\"white-space:pre;overflow-x:auto;line-height:normal;font-family:Menlo,'DejaVu Sans Mono',consolas,'Courier New',monospace\"><span style=\"font-weight: bold\"> Trainable params: </span><span style=\"color: #00af00; text-decoration-color: #00af00\">370,816</span> (1.41 MB)\n",
              "</pre>\n"
            ]
          },
          "metadata": {}
        },
        {
          "output_type": "display_data",
          "data": {
            "text/plain": [
              "\u001b[1m Non-trainable params: \u001b[0m\u001b[38;5;34m0\u001b[0m (0.00 B)\n"
            ],
            "text/html": [
              "<pre style=\"white-space:pre;overflow-x:auto;line-height:normal;font-family:Menlo,'DejaVu Sans Mono',consolas,'Courier New',monospace\"><span style=\"font-weight: bold\"> Non-trainable params: </span><span style=\"color: #00af00; text-decoration-color: #00af00\">0</span> (0.00 B)\n",
              "</pre>\n"
            ]
          },
          "metadata": {}
        }
      ]
    },
    {
      "cell_type": "code",
      "source": [
        "model.add(Flatten(name='Flatten_Layer'))\n",
        "model.add(Dense(128,activation='relu',name='Capa_Densa_1'))\n",
        "model.add(Dense(64,activation='relu',name='Capa_Densa_2'))\n",
        "model.summary()"
      ],
      "metadata": {
        "colab": {
          "base_uri": "https://localhost:8080/",
          "height": 351
        },
        "id": "CL-TVLSlHR2e",
        "outputId": "342d87c0-53bb-402f-fad1-24a9f1350d85"
      },
      "id": "CL-TVLSlHR2e",
      "execution_count": 93,
      "outputs": [
        {
          "output_type": "error",
          "ename": "ValueError",
          "evalue": "All layers added to a Sequential model should have unique names. Name 'Flatten_Layer' is already the name of a layer in this model. Update the `name` argument to pass a unique name.",
          "traceback": [
            "\u001b[0;31m---------------------------------------------------------------------------\u001b[0m",
            "\u001b[0;31mValueError\u001b[0m                                Traceback (most recent call last)",
            "\u001b[0;32m<ipython-input-93-904ee479ba82>\u001b[0m in \u001b[0;36m<cell line: 1>\u001b[0;34m()\u001b[0m\n\u001b[0;32m----> 1\u001b[0;31m \u001b[0mmodel\u001b[0m\u001b[0;34m.\u001b[0m\u001b[0madd\u001b[0m\u001b[0;34m(\u001b[0m\u001b[0mFlatten\u001b[0m\u001b[0;34m(\u001b[0m\u001b[0mname\u001b[0m\u001b[0;34m=\u001b[0m\u001b[0;34m'Flatten_Layer'\u001b[0m\u001b[0;34m)\u001b[0m\u001b[0;34m)\u001b[0m\u001b[0;34m\u001b[0m\u001b[0;34m\u001b[0m\u001b[0m\n\u001b[0m\u001b[1;32m      2\u001b[0m \u001b[0mmodel\u001b[0m\u001b[0;34m.\u001b[0m\u001b[0madd\u001b[0m\u001b[0;34m(\u001b[0m\u001b[0mDense\u001b[0m\u001b[0;34m(\u001b[0m\u001b[0;36m128\u001b[0m\u001b[0;34m,\u001b[0m\u001b[0mactivation\u001b[0m\u001b[0;34m=\u001b[0m\u001b[0;34m'relu'\u001b[0m\u001b[0;34m,\u001b[0m\u001b[0mname\u001b[0m\u001b[0;34m=\u001b[0m\u001b[0;34m'Capa_Densa_1'\u001b[0m\u001b[0;34m)\u001b[0m\u001b[0;34m)\u001b[0m\u001b[0;34m\u001b[0m\u001b[0;34m\u001b[0m\u001b[0m\n\u001b[1;32m      3\u001b[0m \u001b[0mmodel\u001b[0m\u001b[0;34m.\u001b[0m\u001b[0madd\u001b[0m\u001b[0;34m(\u001b[0m\u001b[0mDense\u001b[0m\u001b[0;34m(\u001b[0m\u001b[0;36m64\u001b[0m\u001b[0;34m,\u001b[0m\u001b[0mactivation\u001b[0m\u001b[0;34m=\u001b[0m\u001b[0;34m'relu'\u001b[0m\u001b[0;34m,\u001b[0m\u001b[0mname\u001b[0m\u001b[0;34m=\u001b[0m\u001b[0;34m'Capa_Densa_2'\u001b[0m\u001b[0;34m)\u001b[0m\u001b[0;34m)\u001b[0m\u001b[0;34m\u001b[0m\u001b[0;34m\u001b[0m\u001b[0m\n\u001b[1;32m      4\u001b[0m \u001b[0mmodel\u001b[0m\u001b[0;34m.\u001b[0m\u001b[0msummary\u001b[0m\u001b[0;34m(\u001b[0m\u001b[0;34m)\u001b[0m\u001b[0;34m\u001b[0m\u001b[0;34m\u001b[0m\u001b[0m\n",
            "\u001b[0;32m/usr/local/lib/python3.10/dist-packages/keras/src/models/sequential.py\u001b[0m in \u001b[0;36madd\u001b[0;34m(self, layer, rebuild)\u001b[0m\n\u001b[1;32m     99\u001b[0m             )\n\u001b[1;32m    100\u001b[0m         \u001b[0;32mif\u001b[0m \u001b[0;32mnot\u001b[0m \u001b[0mself\u001b[0m\u001b[0;34m.\u001b[0m\u001b[0m_is_layer_name_unique\u001b[0m\u001b[0;34m(\u001b[0m\u001b[0mlayer\u001b[0m\u001b[0;34m)\u001b[0m\u001b[0;34m:\u001b[0m\u001b[0;34m\u001b[0m\u001b[0;34m\u001b[0m\u001b[0m\n\u001b[0;32m--> 101\u001b[0;31m             raise ValueError(\n\u001b[0m\u001b[1;32m    102\u001b[0m                 \u001b[0;34m\"All layers added to a Sequential model \"\u001b[0m\u001b[0;34m\u001b[0m\u001b[0;34m\u001b[0m\u001b[0m\n\u001b[1;32m    103\u001b[0m                 \u001b[0;34mf\"should have unique names. Name '{layer.name}' is already \"\u001b[0m\u001b[0;34m\u001b[0m\u001b[0;34m\u001b[0m\u001b[0m\n",
            "\u001b[0;31mValueError\u001b[0m: All layers added to a Sequential model should have unique names. Name 'Flatten_Layer' is already the name of a layer in this model. Update the `name` argument to pass a unique name."
          ]
        }
      ]
    },
    {
      "cell_type": "code",
      "source": [
        "model.add(Dense(len(categories), activation='softmax', name='Capa_Respuesta'))\n",
        "model.summary()"
      ],
      "metadata": {
        "id": "fy4m_JR8HVE7"
      },
      "id": "fy4m_JR8HVE7",
      "execution_count": null,
      "outputs": []
    },
    {
      "cell_type": "code",
      "source": [
        "model.compile(optimizer='adam', loss=tf.keras.losses.CategoricalCrossentropy(),\n",
        "              metrics=[tf.keras.metrics.Precision(), tf.keras.metrics.Recall()])\n",
        "model.summary()"
      ],
      "metadata": {
        "id": "SYyz2xKuHuIT"
      },
      "id": "SYyz2xKuHuIT",
      "execution_count": null,
      "outputs": []
    },
    {
      "cell_type": "code",
      "source": [
        "plot_model(model, show_shapes=True, show_layer_names=True)"
      ],
      "metadata": {
        "id": "QDSwS48iH3NY"
      },
      "id": "QDSwS48iH3NY",
      "execution_count": null,
      "outputs": []
    },
    {
      "cell_type": "code",
      "source": [
        "my_callbacks = [\n",
        "    tf.keras.callbacks.EarlyStopping(patience=3)\n",
        "]"
      ],
      "metadata": {
        "id": "seO5imq-H8dj"
      },
      "id": "seO5imq-H8dj",
      "execution_count": null,
      "outputs": []
    },
    {
      "cell_type": "code",
      "source": [
        "device_name = tf.test.gpu_device_name()\n",
        "gpu_name = '/device:GPU:0'\n",
        "if device_name != gpu_name:\n",
        "  raise SystemError('GPU device not found')\n",
        "print('Found GPU at: {}'.format(device_name))"
      ],
      "metadata": {
        "id": "PYQpIQw2ICeo"
      },
      "id": "PYQpIQw2ICeo",
      "execution_count": null,
      "outputs": []
    },
    {
      "cell_type": "code",
      "source": [
        "train_ds = tf.keras.utils.image_dataset_from_directory(\n",
        "  'CDA_Taller2/model/data/train/Fruit',\n",
        "  label_mode='categorical',\n",
        "  seed=82,\n",
        "  image_size=(256, 256),\n",
        "  batch_size=32\n",
        ")"
      ],
      "metadata": {
        "id": "nhwmbSZfKJM3"
      },
      "id": "nhwmbSZfKJM3",
      "execution_count": null,
      "outputs": []
    },
    {
      "cell_type": "code",
      "source": [
        "test_ds = tf.keras.utils.image_dataset_from_directory(\n",
        "  'CDA_Taller2/model/data/test/Fruit',\n",
        "  label_mode='categorical',\n",
        "  seed=82,\n",
        "  image_size=(256, 256),\n",
        "  batch_size=32\n",
        ")"
      ],
      "metadata": {
        "id": "vuwMX-v2KpON"
      },
      "id": "vuwMX-v2KpON",
      "execution_count": null,
      "outputs": []
    },
    {
      "cell_type": "code",
      "source": [
        "val_ds = tf.keras.utils.image_dataset_from_directory(\n",
        "  'CDA_Taller2/model/data/val/Fruit',\n",
        "  label_mode='categorical',\n",
        "  seed=82,\n",
        "  image_size=(256, 256),\n",
        "  batch_size=32\n",
        ")"
      ],
      "metadata": {
        "id": "v3mQMj1nKv8n"
      },
      "id": "v3mQMj1nKv8n",
      "execution_count": null,
      "outputs": []
    },
    {
      "cell_type": "code",
      "source": [
        "with tf.device(gpu_name):\n",
        "  history = model.fit(train_ds,\n",
        "          validation_data=test_ds,\n",
        "          epochs=10\n",
        "  )"
      ],
      "metadata": {
        "id": "iYDQYDmXIOEK"
      },
      "id": "iYDQYDmXIOEK",
      "execution_count": null,
      "outputs": []
    },
    {
      "cell_type": "code",
      "source": [
        "y_true = list()\n",
        "y_pred = list()\n",
        "\n",
        "for images, labels in train_ds:\n",
        "    pred = model.predict(images)\n",
        "    for i in range(len(pred)):\n",
        "        y_true.append(labels[i].numpy())\n",
        "        y_pred.append((pred[i] == pred[i].max()).astype(int))\n",
        "\n",
        "y_true = np.array(y_true)\n",
        "y_pred = np.array(y_pred)"
      ],
      "metadata": {
        "id": "W_kPxJecJwlu"
      },
      "id": "W_kPxJecJwlu",
      "execution_count": null,
      "outputs": []
    },
    {
      "cell_type": "code",
      "source": [
        "print(classification_report(y_true,y_pred,target_names=list(categories)))"
      ],
      "metadata": {
        "id": "2ZFH7LCmM_mQ"
      },
      "id": "2ZFH7LCmM_mQ",
      "execution_count": null,
      "outputs": []
    },
    {
      "cell_type": "code",
      "source": [
        "plt.figure(figsize=(10, 10))\n",
        "\n",
        "df = train_ds.take(1)\n",
        "for images, labels in df:\n",
        "  pred = model.predict(images)\n",
        "  for i in range(9):\n",
        "    ax = plt.subplot(3, 3, i + 1)\n",
        "    plt.imshow(images[i].numpy().astype(\"uint8\"))\n",
        "    plt.title(categories[tf.argmax(pred[i]).numpy()])\n",
        "    plt.axis(\"off\")\n",
        ""
      ],
      "metadata": {
        "id": "XaEt6yAaNIeZ"
      },
      "id": "XaEt6yAaNIeZ",
      "execution_count": null,
      "outputs": []
    },
    {
      "cell_type": "code",
      "source": [
        "plt.plot(history.history['loss'], label='Training loss')\n",
        "plt.plot(history.history['val_loss'], label='Validation loss')\n",
        "plt.title('Training and validation loss')\n",
        "plt.xlabel('Epochs')\n",
        "plt.ylabel('Loss')\n",
        "plt.legend()\n",
        "plt.show()"
      ],
      "metadata": {
        "id": "uoYSo21MNRIs"
      },
      "id": "uoYSo21MNRIs",
      "execution_count": null,
      "outputs": []
    },
    {
      "cell_type": "code",
      "source": [
        "plt.plot(history.history['recall_1'], label='Training recall')\n",
        "plt.plot(history.history['val_recall_1'], label='Validation recall')\n",
        "plt.plot(history.history['precision_1'], label='Training precision')\n",
        "plt.plot(history.history['val_precision_1'], label='Validation precision')\n",
        "plt.title('Training and validation metrics')\n",
        "plt.xlabel('Epochs')\n",
        "plt.ylabel('Accuracy')\n",
        "plt.legend()\n",
        "plt.show()"
      ],
      "metadata": {
        "id": "aP9jgx0YPgvR"
      },
      "id": "aP9jgx0YPgvR",
      "execution_count": null,
      "outputs": []
    },
    {
      "cell_type": "code",
      "source": [
        "y_true = list()\n",
        "y_pred = list()\n",
        "\n",
        "for images, labels in test_ds:\n",
        "    pred = model.predict(images)\n",
        "    for i in range(len(pred)):\n",
        "        y_true.append(labels[i].numpy())\n",
        "        y_pred.append((pred[i] == pred[i].max()).astype(int))\n",
        "\n",
        "y_true = np.array(y_true)\n",
        "y_pred = np.array(y_pred)"
      ],
      "metadata": {
        "id": "bzWIeSapPlkV"
      },
      "id": "bzWIeSapPlkV",
      "execution_count": null,
      "outputs": []
    },
    {
      "cell_type": "code",
      "source": [
        "print(classification_report(y_true, y_pred, target_names=list(categories)))"
      ],
      "metadata": {
        "id": "mDpqXMERPtMK"
      },
      "id": "mDpqXMERPtMK",
      "execution_count": null,
      "outputs": []
    },
    {
      "cell_type": "code",
      "source": [
        "plt.figure(figsize=(10, 10))\n",
        "\n",
        "df = test_ds.take(1)\n",
        "for images, labels in df:\n",
        "  pred = model.predict(images)\n",
        "  for i in range(9):\n",
        "    ax = plt.subplot(3, 3, i + 1)\n",
        "    plt.imshow(images[i].numpy().astype(\"uint8\"))\n",
        "    plt.title(categories[tf.argmax(pred[i]).numpy()])\n",
        "    plt.axis(\"off\")"
      ],
      "metadata": {
        "id": "laG3E-YKPykN"
      },
      "id": "laG3E-YKPykN",
      "execution_count": null,
      "outputs": []
    },
    {
      "cell_type": "code",
      "source": [
        "def construirMejorModelo(hip):\n",
        "  bModel = Sequential(name=\"Modelo_Simple\")\n",
        "\n",
        "  # Entrada\n",
        "  bModel.add(Input(shape=(256, 256, 3), name='Entrada'))\n",
        "\n",
        "  # Reescalado\n",
        "  bModel.add(Rescaling(1./255, name='Reescalado'))\n",
        "\n",
        "  # Capas Convolucionales y de Pooling\n",
        "  bModel.add(Conv2D(filters=hip.Int('conv_filters', min_value=32, max_value=128, step=32),\n",
        "                     kernel_size=hip.Choice('conv_kernel', values=[3, 5]),\n",
        "                     activation='relu',\n",
        "                     name='Convolucional_1'))\n",
        "\n",
        "  bModel.add(MaxPooling2D((2, 2), name='MaxPooling_1'))\n",
        "\n",
        "  bModel.add(Conv2D(filters=hip.Int('conv_filters_2', min_value=64, max_value=256, step=64),\n",
        "                     kernel_size=hip.Choice('conv_kernel_2', values=[3, 5]),\n",
        "                     activation='relu',\n",
        "                     name='Convolucional_2'))\n",
        "\n",
        "  bModel.add(MaxPooling2D((2, 2), name='MaxPooling_2'))\n",
        "\n",
        "  bModel.add(Conv2D(filters=hip.Int('conv_filters_3', min_value=32, max_value=128, step=32),\n",
        "                     kernel_size=hip.Choice('conv_kernel_3', values=[3, 5]),\n",
        "                     activation='relu',\n",
        "                     name='Convolucional_3'))\n",
        "\n",
        "  bModel.add(MaxPooling2D((2, 2), name='MaxPooling_3'))\n",
        "\n",
        "  # Capas Densas\n",
        "  bModel.add(Flatten(name='Flatten'))\n",
        "  bModel.add(Dense(units=hip.Int('dense_units', min_value=64, max_value=128, step=64),\n",
        "                    activation='relu', name='Densa'))\n",
        "  bModel.add(Dense(19, activation='softmax', name='Salida'))\n",
        "\n",
        "  # Compilación del modelo\n",
        "  bModel.compile(optimizer=\"adam\", loss=tf.keras.losses.CategoricalCrossentropy(),\n",
        "                   metrics=[\"accuracy\"])\n",
        "\n",
        "  return bModel"
      ],
      "metadata": {
        "id": "KBqfNix8P6rk"
      },
      "id": "KBqfNix8P6rk",
      "execution_count": null,
      "outputs": []
    },
    {
      "cell_type": "code",
      "source": [
        "tuner = kt.RandomSearch(\n",
        "    construirMejorModelo,\n",
        "    objective=\"val_accuracy\",\n",
        "    project_name=\"cls_fruta\",\n",
        "    seed=82,\n",
        "    max_trials=10)"
      ],
      "metadata": {
        "id": "jNXJCYzLQG79"
      },
      "id": "jNXJCYzLQG79",
      "execution_count": null,
      "outputs": []
    },
    {
      "cell_type": "code",
      "source": [
        "with tf.device(gpu_name):\n",
        "  tuner.search(train_ds, validation_data=test_ds, callbacks=my_callbacks, epochs=10)"
      ],
      "metadata": {
        "id": "CNQz4iQgQOak"
      },
      "id": "CNQz4iQgQOak",
      "execution_count": null,
      "outputs": []
    },
    {
      "cell_type": "code",
      "source": [
        "best_model=tuner.get_best_models(num_models=1)[0]\n",
        "best_hps = tuner.get_best_hyperparameters(num_trials=1)[0]\n",
        "best_hps.values"
      ],
      "metadata": {
        "id": "acnifo_PTY9n"
      },
      "id": "acnifo_PTY9n",
      "execution_count": null,
      "outputs": []
    },
    {
      "cell_type": "code",
      "source": [
        "best_model.save('best_model_cls_fruta.keras')\n",
        "best_model.summary()"
      ],
      "metadata": {
        "id": "WYaPEdgVXWfF"
      },
      "id": "WYaPEdgVXWfF",
      "execution_count": null,
      "outputs": []
    },
    {
      "cell_type": "code",
      "source": [
        "y_true = list()\n",
        "y_pred = list()\n",
        "\n",
        "for images, labels in train_ds:\n",
        "    pred = best_model.predict(images)\n",
        "    for i in range(len(pred)):\n",
        "        y_true.append(labels[i].numpy())\n",
        "        y_pred.append((pred[i] > 0.5).astype(int))  # Convertir a 1 si la probabilidad es mayor a 0.5, 0 en caso contrario\n",
        "\n",
        "y_true = np.array(y_true)\n",
        "y_pred = np.array(y_pred)"
      ],
      "metadata": {
        "id": "advMEJ78XcQ9"
      },
      "id": "advMEJ78XcQ9",
      "execution_count": null,
      "outputs": []
    },
    {
      "cell_type": "code",
      "source": [],
      "metadata": {
        "id": "fdqHrxSVXiVa"
      },
      "id": "fdqHrxSVXiVa",
      "execution_count": null,
      "outputs": []
    }
  ],
  "metadata": {
    "kernelspec": {
      "display_name": "Python 3",
      "name": "python3"
    },
    "language_info": {
      "codemirror_mode": {
        "name": "ipython",
        "version": 3
      },
      "file_extension": ".py",
      "mimetype": "text/x-python",
      "name": "python",
      "nbconvert_exporter": "python",
      "pygments_lexer": "ipython3",
      "version": "3.9.12"
    },
    "colab": {
      "provenance": [],
      "gpuType": "T4"
    },
    "accelerator": "GPU"
  },
  "nbformat": 4,
  "nbformat_minor": 5
}