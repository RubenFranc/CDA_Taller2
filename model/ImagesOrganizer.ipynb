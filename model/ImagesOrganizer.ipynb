{
 "cells": [
  {
   "cell_type": "code",
   "execution_count": 2,
   "id": "70b7cb09",
   "metadata": {
    "id": "70b7cb09"
   },
   "outputs": [],
   "source": [
    "import os\n",
    "import shutil"
   ]
  },
  {
   "cell_type": "code",
   "execution_count": 2,
   "id": "108f2367",
   "metadata": {
    "id": "108f2367"
   },
   "outputs": [],
   "source": [
    "dirs=['val','test','train']\n",
    "for d in dirs:\n",
    "    path='./data/'+d+'/Fruit'\n",
    "    listdir=os.listdir(path)\n",
    "    for fruit in listdir:\n",
    "        directorio_fruta=path+'/'+fruit\n",
    "        for carpeta, subcarpetas, archivos in os.walk(directorio_fruta):\n",
    "            #print(carpeta,subcarpetas)\n",
    "            for archivo in archivos:\n",
    "                # Ignorar los archivos que ya están en el directorio principal\n",
    "                if carpeta != directorio_fruta:\n",
    "                    # Define la ruta completa del archivo\n",
    "                    archivo_origen = os.path.join(carpeta, archivo)\n",
    "                    # Define la ruta destino (moverlo al directorio principal)\n",
    "                    archivo_destino = os.path.join(directorio_fruta, archivo)\n",
    "\n",
    "                    # Mueve el archivo\n",
    "                    shutil.move(archivo_origen, archivo_destino)\n",
    "                    #print(f'Moviendo {archivo_origen} a {archivo_destino}')\n",
    "\n"
   ]
  },
  {
   "cell_type": "code",
   "execution_count": 3,
   "id": "a7528225",
   "metadata": {
    "id": "a7528225"
   },
   "outputs": [],
   "source": [
    "dirs=['val','test','train']\n",
    "for d in dirs:\n",
    "    path='./data/'+d+'/Fruit'\n",
    "    listdir=os.listdir(path)\n",
    "    for fruit in listdir:\n",
    "        directorio_fruta=path+'/'+fruit\n",
    "        for carpeta, subcarpetas, archivos in os.walk(directorio_fruta):\n",
    "            for sub in subcarpetas:\n",
    "                os.rmdir(directorio_fruta+'/'+sub)"
   ]
  },
  {
   "cell_type": "code",
   "execution_count": 4,
   "id": "0a4823b0",
   "metadata": {
    "colab": {
     "base_uri": "https://localhost:8080/",
     "height": 222
    },
    "id": "0a4823b0",
    "outputId": "44308e21-0284-4b4e-968d-c8f20dd0ad7f"
   },
   "outputs": [],
   "source": [
    "dirs=['val','test','train']\n",
    "for d in dirs:\n",
    "    path='./data/'+d+'/Vegetables'\n",
    "    listdir=os.listdir(path)\n",
    "    for vegetable in listdir:\n",
    "        directorio_vegetal=path+'/'+vegetable\n",
    "        for carpeta, subcarpetas, archivos in os.walk(directorio_vegetal):\n",
    "            #print(carpeta,subcarpetas)\n",
    "            for archivo in archivos:\n",
    "                # Ignorar los archivos que ya están en el directorio principal\n",
    "                if carpeta != directorio_vegetal:\n",
    "                    # Define la ruta completa del archivo\n",
    "                    archivo_origen = os.path.join(carpeta, archivo)\n",
    "                    # Define la ruta destino (moverlo al directorio principal)\n",
    "                    archivo_destino = os.path.join(directorio_vegetal, archivo)\n",
    "\n",
    "                    # Mueve el archivo\n",
    "                    shutil.move(archivo_origen, archivo_destino)\n",
    "                    #print(f'Moviendo {archivo_origen} a {archivo_destino}')\n"
   ]
  },
  {
   "cell_type": "code",
   "execution_count": 5,
   "id": "xFpgQfQDxh3y",
   "metadata": {
    "id": "xFpgQfQDxh3y"
   },
   "outputs": [],
   "source": [
    "dirs=['val','test','train']\n",
    "for d in dirs:\n",
    "    path='./data/'+d+'/Vegetables'\n",
    "    listdir=os.listdir(path)\n",
    "    for vegetable in listdir:\n",
    "        directorio_vegetal=path+'/'+vegetable\n",
    "        for carpeta, subcarpetas, archivos in os.walk(directorio_vegetal):\n",
    "            for sub in subcarpetas:\n",
    "                os.rmdir(directorio_vegetal+'/'+sub)"
   ]
  },
  {
   "cell_type": "code",
   "execution_count": 3,
   "id": "4974a241",
   "metadata": {},
   "outputs": [],
   "source": [
    "dirs=['val','test','train']\n",
    "for d in dirs:\n",
    "    path='./data/'+d+'/Packages'\n",
    "    listdir=os.listdir(path)\n",
    "    for package in listdir:\n",
    "        directorio_paquete=path+'/'+package\n",
    "        for carpeta, subcarpetas, archivos in os.walk(directorio_paquete):\n",
    "            #print(carpeta,subcarpetas)\n",
    "            for archivo in archivos:\n",
    "                # Ignorar los archivos que ya están en el directorio principal\n",
    "                if carpeta != directorio_paquete:\n",
    "                    # Define la ruta completa del archivo\n",
    "                    archivo_origen = os.path.join(carpeta, archivo)\n",
    "                    # Define la ruta destino (moverlo al directorio principal)\n",
    "                    archivo_destino = os.path.join(directorio_paquete, archivo)\n",
    "\n",
    "                    # Mueve el archivo\n",
    "                    shutil.move(archivo_origen, archivo_destino)\n",
    "                    #print(f'Moviendo {archivo_origen} a {archivo_destino}')"
   ]
  },
  {
   "cell_type": "code",
   "execution_count": 4,
   "id": "cb382c28",
   "metadata": {},
   "outputs": [],
   "source": [
    "dirs=['val','test','train']\n",
    "for d in dirs:\n",
    "    path='./data/'+d+'/Packages'\n",
    "    listdir=os.listdir(path)\n",
    "    for package in listdir:\n",
    "        directorio_paquete=path+'/'+package\n",
    "        for carpeta, subcarpetas, archivos in os.walk(directorio_paquete):\n",
    "            for sub in subcarpetas:\n",
    "                os.rmdir(directorio_paquete+'/'+sub)"
   ]
  },
  {
   "cell_type": "code",
   "execution_count": null,
   "id": "5adcd153",
   "metadata": {},
   "outputs": [],
   "source": []
  }
 ],
 "metadata": {
  "colab": {
   "provenance": []
  },
  "kernelspec": {
   "display_name": "Python 3 (ipykernel)",
   "language": "python",
   "name": "python3"
  },
  "language_info": {
   "codemirror_mode": {
    "name": "ipython",
    "version": 3
   },
   "file_extension": ".py",
   "mimetype": "text/x-python",
   "name": "python",
   "nbconvert_exporter": "python",
   "pygments_lexer": "ipython3",
   "version": "3.9.12"
  }
 },
 "nbformat": 4,
 "nbformat_minor": 5
}
