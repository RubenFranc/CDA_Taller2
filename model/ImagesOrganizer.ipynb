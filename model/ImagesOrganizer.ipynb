{
  "cells": [
    {
      "cell_type": "code",
      "execution_count": 2,
      "id": "70b7cb09",
      "metadata": {
        "id": "70b7cb09"
      },
      "outputs": [],
      "source": [
        "import os\n",
        "import shutil"
      ]
    },
    {
      "cell_type": "code",
      "execution_count": null,
      "id": "108f2367",
      "metadata": {
        "id": "108f2367"
      },
      "outputs": [],
      "source": [
        "dirs=['val','test','train']\n",
        "for d in dirs:\n",
        "    path='./data/'+d+'/Fruit'\n",
        "    listdir=os.listdir(path)\n",
        "    for fruit in listdir:\n",
        "        directorio_fruta=path+'/'+fruit\n",
        "        for carpeta, subcarpetas, archivos in os.walk(directorio_fruta):\n",
        "            #print(carpeta,subcarpetas)\n",
        "            for archivo in archivos:\n",
        "                # Ignorar los archivos que ya están en el directorio principal\n",
        "                if carpeta != directorio_fruta:\n",
        "                    # Define la ruta completa del archivo\n",
        "                    archivo_origen = os.path.join(carpeta, archivo)\n",
        "                    # Define la ruta destino (moverlo al directorio principal)\n",
        "                    archivo_destino = os.path.join(directorio_fruta, archivo)\n",
        "\n",
        "                    # Mueve el archivo\n",
        "                    shutil.move(archivo_origen, archivo_destino)\n",
        "                    #print(f'Moviendo {archivo_origen} a {archivo_destino}')\n",
        "\n"
      ]
    },
    {
      "cell_type": "code",
      "execution_count": null,
      "id": "a7528225",
      "metadata": {
        "id": "a7528225"
      },
      "outputs": [],
      "source": [
        "dirs=['val','test','train']\n",
        "for d in dirs:\n",
        "    path='./data/'+d+'/Fruit'\n",
        "    listdir=os.listdir(path)\n",
        "    for fruit in listdir:\n",
        "        directorio_fruta=path+'/'+fruit\n",
        "        for carpeta, subcarpetas, archivos in os.walk(directorio_fruta):\n",
        "            for sub in subcarpetas:\n",
        "                os.rmdir(directorio_fruta+'/'+sub)"
      ]
    },
    {
      "cell_type": "code",
      "execution_count": 3,
      "id": "0a4823b0",
      "metadata": {
        "id": "0a4823b0",
        "outputId": "44308e21-0284-4b4e-968d-c8f20dd0ad7f",
        "colab": {
          "base_uri": "https://localhost:8080/",
          "height": 222
        }
      },
      "outputs": [
        {
          "output_type": "error",
          "ename": "FileNotFoundError",
          "evalue": "[Errno 2] No such file or directory: './data/val/Vegetables'",
          "traceback": [
            "\u001b[0;31m---------------------------------------------------------------------------\u001b[0m",
            "\u001b[0;31mFileNotFoundError\u001b[0m                         Traceback (most recent call last)",
            "\u001b[0;32m<ipython-input-3-3c53a9615879>\u001b[0m in \u001b[0;36m<cell line: 2>\u001b[0;34m()\u001b[0m\n\u001b[1;32m      2\u001b[0m \u001b[0;32mfor\u001b[0m \u001b[0md\u001b[0m \u001b[0;32min\u001b[0m \u001b[0mdirs\u001b[0m\u001b[0;34m:\u001b[0m\u001b[0;34m\u001b[0m\u001b[0;34m\u001b[0m\u001b[0m\n\u001b[1;32m      3\u001b[0m     \u001b[0mpath\u001b[0m\u001b[0;34m=\u001b[0m\u001b[0;34m'./data/'\u001b[0m\u001b[0;34m+\u001b[0m\u001b[0md\u001b[0m\u001b[0;34m+\u001b[0m\u001b[0;34m'/Vegetables'\u001b[0m\u001b[0;34m\u001b[0m\u001b[0;34m\u001b[0m\u001b[0m\n\u001b[0;32m----> 4\u001b[0;31m     \u001b[0mlistdir\u001b[0m\u001b[0;34m=\u001b[0m\u001b[0mos\u001b[0m\u001b[0;34m.\u001b[0m\u001b[0mlistdir\u001b[0m\u001b[0;34m(\u001b[0m\u001b[0mpath\u001b[0m\u001b[0;34m)\u001b[0m\u001b[0;34m\u001b[0m\u001b[0;34m\u001b[0m\u001b[0m\n\u001b[0m\u001b[1;32m      5\u001b[0m     \u001b[0;32mfor\u001b[0m \u001b[0mfruit\u001b[0m \u001b[0;32min\u001b[0m \u001b[0mlistdir\u001b[0m\u001b[0;34m:\u001b[0m\u001b[0;34m\u001b[0m\u001b[0;34m\u001b[0m\u001b[0m\n\u001b[1;32m      6\u001b[0m         \u001b[0mdirectorio_fruta\u001b[0m\u001b[0;34m=\u001b[0m\u001b[0mpath\u001b[0m\u001b[0;34m+\u001b[0m\u001b[0;34m'/'\u001b[0m\u001b[0;34m+\u001b[0m\u001b[0mfruit\u001b[0m\u001b[0;34m\u001b[0m\u001b[0;34m\u001b[0m\u001b[0m\n",
            "\u001b[0;31mFileNotFoundError\u001b[0m: [Errno 2] No such file or directory: './data/val/Vegetables'"
          ]
        }
      ],
      "source": [
        "dirs=['val','test','train']\n",
        "for d in dirs:\n",
        "    path='./data/'+d+'/Vegetables'\n",
        "    listdir=os.listdir(path)\n",
        "    for fruit in listdir:\n",
        "        directorio_fruta=path+'/'+fruit\n",
        "        for carpeta, subcarpetas, archivos in os.walk(directorio_fruta):\n",
        "            #print(carpeta,subcarpetas)\n",
        "            for archivo in archivos:\n",
        "                # Ignorar los archivos que ya están en el directorio principal\n",
        "                if carpeta != directorio_fruta:\n",
        "                    # Define la ruta completa del archivo\n",
        "                    archivo_origen = os.path.join(carpeta, archivo)\n",
        "                    # Define la ruta destino (moverlo al directorio principal)\n",
        "                    archivo_destino = os.path.join(directorio_fruta, archivo)\n",
        "\n",
        "                    # Mueve el archivo\n",
        "                    shutil.move(archivo_origen, archivo_destino)\n",
        "                    #print(f'Moviendo {archivo_origen} a {archivo_destino}')\n"
      ]
    },
    {
      "cell_type": "code",
      "source": [
        "dirs=['val','test','train']\n",
        "for d in dirs:\n",
        "    path='./data/'+d+'/Vegetables'\n",
        "    listdir=os.listdir(path)\n",
        "    for fruit in listdir:\n",
        "        directorio_fruta=path+'/'+fruit\n",
        "        for carpeta, subcarpetas, archivos in os.walk(directorio_fruta):\n",
        "            for sub in subcarpetas:\n",
        "                os.rmdir(directorio_fruta+'/'+sub)"
      ],
      "metadata": {
        "id": "xFpgQfQDxh3y"
      },
      "id": "xFpgQfQDxh3y",
      "execution_count": null,
      "outputs": []
    }
  ],
  "metadata": {
    "kernelspec": {
      "display_name": "Python 3 (ipykernel)",
      "language": "python",
      "name": "python3"
    },
    "language_info": {
      "codemirror_mode": {
        "name": "ipython",
        "version": 3
      },
      "file_extension": ".py",
      "mimetype": "text/x-python",
      "name": "python",
      "nbconvert_exporter": "python",
      "pygments_lexer": "ipython3",
      "version": "3.9.12"
    },
    "colab": {
      "provenance": []
    }
  },
  "nbformat": 4,
  "nbformat_minor": 5
}