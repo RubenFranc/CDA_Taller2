{
  "cells": [
    {
      "cell_type": "code",
      "execution_count": 1,
      "id": "568b40a6",
      "metadata": {
        "id": "568b40a6",
        "outputId": "0710af6b-cd91-495e-a03e-3e8de5c7a9f4",
        "colab": {
          "base_uri": "https://localhost:8080/"
        }
      },
      "outputs": [
        {
          "output_type": "stream",
          "name": "stdout",
          "text": [
            "Cloning into 'CDA_Taller2'...\n",
            "remote: Enumerating objects: 3901, done.\u001b[K\n",
            "remote: Counting objects: 100% (33/33), done.\u001b[K\n",
            "remote: Compressing objects: 100% (29/29), done.\u001b[K\n",
            "remote: Total 3901 (delta 5), reused 27 (delta 4), pack-reused 3868 (from 1)\u001b[K\n",
            "Receiving objects: 100% (3901/3901), 108.78 MiB | 18.06 MiB/s, done.\n",
            "Resolving deltas: 100% (19/19), done.\n",
            "Updating files: 100% (3683/3683), done.\n"
          ]
        }
      ],
      "source": [
        "!git clone https://github.com/RubenFranc/CDA_Taller2"
      ]
    },
    {
      "cell_type": "code",
      "source": [],
      "metadata": {
        "id": "Wc7IEquxy_Fn"
      },
      "id": "Wc7IEquxy_Fn",
      "execution_count": null,
      "outputs": []
    }
  ],
  "metadata": {
    "kernelspec": {
      "display_name": "Python 3",
      "name": "python3"
    },
    "language_info": {
      "codemirror_mode": {
        "name": "ipython",
        "version": 3
      },
      "file_extension": ".py",
      "mimetype": "text/x-python",
      "name": "python",
      "nbconvert_exporter": "python",
      "pygments_lexer": "ipython3",
      "version": "3.9.12"
    },
    "colab": {
      "provenance": [],
      "gpuType": "T4"
    },
    "accelerator": "GPU"
  },
  "nbformat": 4,
  "nbformat_minor": 5
}